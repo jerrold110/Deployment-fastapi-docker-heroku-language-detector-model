{
 "cells": [
  {
   "cell_type": "code",
   "execution_count": 1,
   "id": "b56ea804",
   "metadata": {},
   "outputs": [],
   "source": [
    "import pandas as pd\n",
    "import numpy as np\n",
    "import re\n",
    "import seaborn as sns\n",
    "import matplotlib.pyplot as plt\n",
    "import joblib"
   ]
  },
  {
   "cell_type": "code",
   "execution_count": 2,
   "id": "c923000b",
   "metadata": {},
   "outputs": [],
   "source": [
    "data = pd.read_csv(\"data/Language Detection.zip\", compression='zip')"
   ]
  },
  {
   "cell_type": "code",
   "execution_count": 3,
   "id": "3c8c4e21",
   "metadata": {
    "scrolled": true
   },
   "outputs": [
    {
     "data": {
      "text/html": [
       "<div>\n",
       "<style scoped>\n",
       "    .dataframe tbody tr th:only-of-type {\n",
       "        vertical-align: middle;\n",
       "    }\n",
       "\n",
       "    .dataframe tbody tr th {\n",
       "        vertical-align: top;\n",
       "    }\n",
       "\n",
       "    .dataframe thead th {\n",
       "        text-align: right;\n",
       "    }\n",
       "</style>\n",
       "<table border=\"1\" class=\"dataframe\">\n",
       "  <thead>\n",
       "    <tr style=\"text-align: right;\">\n",
       "      <th></th>\n",
       "      <th>Text</th>\n",
       "      <th>Language</th>\n",
       "    </tr>\n",
       "  </thead>\n",
       "  <tbody>\n",
       "    <tr>\n",
       "      <th>0</th>\n",
       "      <td>Nature, in the broadest sense, is the natural...</td>\n",
       "      <td>English</td>\n",
       "    </tr>\n",
       "    <tr>\n",
       "      <th>1</th>\n",
       "      <td>\"Nature\" can refer to the phenomena of the phy...</td>\n",
       "      <td>English</td>\n",
       "    </tr>\n",
       "    <tr>\n",
       "      <th>2</th>\n",
       "      <td>The study of nature is a large, if not the onl...</td>\n",
       "      <td>English</td>\n",
       "    </tr>\n",
       "    <tr>\n",
       "      <th>3</th>\n",
       "      <td>Although humans are part of nature, human acti...</td>\n",
       "      <td>English</td>\n",
       "    </tr>\n",
       "    <tr>\n",
       "      <th>4</th>\n",
       "      <td>[1] The word nature is borrowed from the Old F...</td>\n",
       "      <td>English</td>\n",
       "    </tr>\n",
       "  </tbody>\n",
       "</table>\n",
       "</div>"
      ],
      "text/plain": [
       "                                                Text Language\n",
       "0   Nature, in the broadest sense, is the natural...  English\n",
       "1  \"Nature\" can refer to the phenomena of the phy...  English\n",
       "2  The study of nature is a large, if not the onl...  English\n",
       "3  Although humans are part of nature, human acti...  English\n",
       "4  [1] The word nature is borrowed from the Old F...  English"
      ]
     },
     "execution_count": 3,
     "metadata": {},
     "output_type": "execute_result"
    }
   ],
   "source": [
    "data.head()"
   ]
  },
  {
   "cell_type": "code",
   "execution_count": 4,
   "id": "93c619b4",
   "metadata": {},
   "outputs": [
    {
     "data": {
      "text/plain": [
       "array([3, 3, 3, ..., 9, 9, 9])"
      ]
     },
     "execution_count": 4,
     "metadata": {},
     "output_type": "execute_result"
    }
   ],
   "source": [
    "x = data[\"Text\"]\n",
    "y = data[\"Language\"]\n",
    "\n",
    "from sklearn.preprocessing import LabelEncoder\n",
    "le = LabelEncoder()\n",
    "y = le.fit_transform(y)\n",
    "y"
   ]
  },
  {
   "cell_type": "code",
   "execution_count": 5,
   "id": "4af20b97",
   "metadata": {},
   "outputs": [],
   "source": [
    "# Train test split\n",
    "from sklearn.model_selection import train_test_split\n",
    "\n",
    "X_train,X_test,y_train,y_test = train_test_split(x, y, test_size=0.2, random_state=1, stratify=y)"
   ]
  },
  {
   "attachments": {},
   "cell_type": "markdown",
   "id": "e97f7206",
   "metadata": {},
   "source": [
    "# Text preprocessing\n",
    "- Removing digits and special characters and closed brackets"
   ]
  },
  {
   "cell_type": "code",
   "execution_count": 6,
   "id": "d47f4c31",
   "metadata": {},
   "outputs": [
    {
     "name": "stderr",
     "output_type": "stream",
     "text": [
      "C:\\Users\\jerro\\AppData\\Local\\Temp\\ipykernel_20516\\2433661769.py:5: FutureWarning: Possible nested set at position 1\n",
      "  text = re.sub(r'[[ ]]', '', text)\n"
     ]
    }
   ],
   "source": [
    "data_list = []\n",
    "\n",
    "for text in x:\n",
    "    text = re.sub(r'[!@#$(),\\n\"%^*?\\:;~`0-9]', ' ', text)\n",
    "    text = re.sub(r'[[ ]]', '', text)\n",
    "    text = text.lower()\n",
    "    data_list.append(text)"
   ]
  },
  {
   "cell_type": "code",
   "execution_count": 7,
   "id": "41531903",
   "metadata": {},
   "outputs": [],
   "source": [
    "# Train test split\n",
    "from sklearn.model_selection import train_test_split\n",
    "\n",
    "X_train,X_test,y_train,y_test = train_test_split(data_list, y, test_size=0.2, random_state=1, stratify=y)"
   ]
  },
  {
   "cell_type": "code",
   "execution_count": 8,
   "id": "2145fdc0",
   "metadata": {},
   "outputs": [],
   "source": [
    "# Bag of words\n",
    "from sklearn.feature_extraction.text import CountVectorizer\n",
    "cv = CountVectorizer()\n",
    "cv.fit(X_train)\n",
    "x_train = cv.transform(X_train).toarray()\n",
    "x_test = cv.transform(X_test).toarray()"
   ]
  },
  {
   "cell_type": "code",
   "execution_count": 9,
   "id": "5c4564c1",
   "metadata": {},
   "outputs": [
    {
     "name": "stdout",
     "output_type": "stream",
     "text": [
      "(8269, 34492)\n",
      "(2068, 34492)\n"
     ]
    }
   ],
   "source": [
    "print(x_train.shape)\n",
    "print(x_test.shape)"
   ]
  },
  {
   "attachments": {},
   "cell_type": "markdown",
   "id": "fb43bd83",
   "metadata": {},
   "source": [
    "## Model"
   ]
  },
  {
   "cell_type": "code",
   "execution_count": 10,
   "id": "d949b207",
   "metadata": {
    "scrolled": false
   },
   "outputs": [
    {
     "name": "stdout",
     "output_type": "stream",
     "text": [
      "Accuracy is : 0.9787234042553191\n",
      "              precision    recall  f1-score   support\n",
      "\n",
      "           0       1.00      0.99      1.00       107\n",
      "           1       1.00      0.94      0.97        86\n",
      "           2       0.99      0.96      0.98       109\n",
      "           3       0.90      0.99      0.94       277\n",
      "           4       0.99      0.99      0.99       203\n",
      "           5       0.99      1.00      0.99        94\n",
      "           6       1.00      1.00      1.00        73\n",
      "           7       1.00      1.00      1.00        12\n",
      "           8       0.99      0.99      0.99       140\n",
      "           9       1.00      0.96      0.98        74\n",
      "          10       1.00      0.99      1.00       119\n",
      "          11       0.99      0.97      0.98       148\n",
      "          12       0.99      0.95      0.97       138\n",
      "          13       0.98      0.99      0.98       164\n",
      "          14       0.98      0.96      0.97       135\n",
      "          15       1.00      0.98      0.99        94\n",
      "          16       1.00      0.97      0.98        95\n",
      "\n",
      "    accuracy                           0.98      2068\n",
      "   macro avg       0.99      0.98      0.98      2068\n",
      "weighted avg       0.98      0.98      0.98      2068\n",
      "\n"
     ]
    }
   ],
   "source": [
    "from sklearn.naive_bayes import MultinomialNB\n",
    "\n",
    "model = MultinomialNB()\n",
    "model.fit(x_train, y_train)\n",
    "y_pred = model.predict(x_test)\n",
    "\n",
    "from sklearn.metrics import accuracy_score, classification_report\n",
    "\n",
    "ac = accuracy_score(y_test, y_pred)\n",
    "cr = classification_report(y_test, y_pred)\n",
    "\n",
    "# acuracy score\n",
    "print(\"Accuracy is :\",ac)\n",
    "\n",
    "# classification report\n",
    "print(cr)"
   ]
  },
  {
   "attachments": {},
   "cell_type": "markdown",
   "id": "7630fc8c",
   "metadata": {},
   "source": [
    "## Pipeline for production\n",
    "- symbol digit remover\n",
    "- vectorizer\n",
    "- classifier"
   ]
  },
  {
   "cell_type": "code",
   "execution_count": 11,
   "id": "98ab7948",
   "metadata": {},
   "outputs": [],
   "source": [
    "from sklearn.pipeline import Pipeline\n",
    "from sklearn.preprocessing import FunctionTransformer"
   ]
  },
  {
   "cell_type": "code",
   "execution_count": 12,
   "id": "a7f048fe",
   "metadata": {
    "scrolled": false
   },
   "outputs": [],
   "source": [
    "def symbol_digit_remover(data):\n",
    "    data = data.copy()\n",
    "    for i, text in enumerate(data):\n",
    "        text = re.sub(r'[!@#$(),\\n\"%^*?\\:;~`0-9]', ' ', data[i])\n",
    "        text = re.sub(r'[[ ]]', '', text)\n",
    "        text = text.lower()\n",
    "        data[i] = text\n",
    "    return data\n",
    "\n",
    "symbol_digit_transformer = FunctionTransformer(symbol_digit_remover)"
   ]
  },
  {
   "cell_type": "code",
   "execution_count": 13,
   "id": "5412327e",
   "metadata": {
    "scrolled": false
   },
   "outputs": [
    {
     "name": "stdout",
     "output_type": "stream",
     "text": [
      "Accuracy is : 0.9787234042553191\n",
      "              precision    recall  f1-score   support\n",
      "\n",
      "           0       1.00      0.99      1.00       107\n",
      "           1       1.00      0.94      0.97        86\n",
      "           2       0.99      0.96      0.98       109\n",
      "           3       0.90      0.99      0.94       277\n",
      "           4       0.99      0.99      0.99       203\n",
      "           5       0.99      1.00      0.99        94\n",
      "           6       1.00      1.00      1.00        73\n",
      "           7       1.00      1.00      1.00        12\n",
      "           8       0.99      0.99      0.99       140\n",
      "           9       1.00      0.96      0.98        74\n",
      "          10       1.00      0.99      1.00       119\n",
      "          11       0.99      0.97      0.98       148\n",
      "          12       0.99      0.95      0.97       138\n",
      "          13       0.98      0.99      0.98       164\n",
      "          14       0.98      0.96      0.97       135\n",
      "          15       1.00      0.98      0.99        94\n",
      "          16       1.00      0.97      0.98        95\n",
      "\n",
      "    accuracy                           0.98      2068\n",
      "   macro avg       0.99      0.98      0.98      2068\n",
      "weighted avg       0.98      0.98      0.98      2068\n",
      "\n"
     ]
    }
   ],
   "source": [
    "# pipeline\n",
    "pipeline = Pipeline([\n",
    "    ('preprocessor', symbol_digit_transformer),\n",
    "    ('vectorizer', CountVectorizer()),\n",
    "    ('multinomialNB', MultinomialNB())\n",
    "])\n",
    "\n",
    "# fit pipeline with unprocess data\n",
    "pipeline.fit(X_train, y_train)\n",
    "\n",
    "# predict results\n",
    "y_pred = pipeline.predict(X_test)\n",
    "ac = accuracy_score(y_test, y_pred)\n",
    "cr = classification_report(y_test, y_pred)\n",
    "\n",
    "# acuracy score\n",
    "print(\"Accuracy is :\",ac)\n",
    "\n",
    "# classification report\n",
    "print(cr)"
   ]
  },
  {
   "cell_type": "raw",
   "id": "66f84060",
   "metadata": {},
   "source": [
    "Data input into pipeline is an array of 1 dimension\n",
    "Data output from pipeline is an array of 1 dimension as well"
   ]
  },
  {
   "cell_type": "code",
   "execution_count": 14,
   "id": "344c75d1",
   "metadata": {},
   "outputs": [],
   "source": [
    "with open('model/trained_pipeline.joblib', 'wb') as f:\n",
    "    joblib.dump(pipeline, f)"
   ]
  },
  {
   "cell_type": "code",
   "execution_count": 15,
   "id": "bc357e31",
   "metadata": {},
   "outputs": [
    {
     "data": {
      "text/plain": [
       "'English'"
      ]
     },
     "execution_count": 15,
     "metadata": {},
     "output_type": "execute_result"
    }
   ],
   "source": [
    "test = 'Hello, how are you?'\n",
    "y_ = pipeline.predict([test])\n",
    "le.classes_[y_[0]]"
   ]
  },
  {
   "cell_type": "code",
   "execution_count": 16,
   "id": "79cdebac",
   "metadata": {},
   "outputs": [
    {
     "data": {
      "text/plain": [
       "'Italian'"
      ]
     },
     "execution_count": 16,
     "metadata": {},
     "output_type": "execute_result"
    }
   ],
   "source": [
    "test = 'Ciao, come stai?'\n",
    "y_ = pipeline.predict([test])\n",
    "le.classes_[y_[0]]"
   ]
  },
  {
   "cell_type": "code",
   "execution_count": 17,
   "id": "bc4e4324",
   "metadata": {},
   "outputs": [
    {
     "data": {
      "text/plain": [
       "'French'"
      ]
     },
     "execution_count": 17,
     "metadata": {},
     "output_type": "execute_result"
    }
   ],
   "source": [
    "test = 'Bonjour, comment va?'\n",
    "y_ = pipeline.predict([test])\n",
    "le.classes_[y_[0]]"
   ]
  }
 ],
 "metadata": {
  "kernelspec": {
   "display_name": "Python 3 (ipykernel)",
   "language": "python",
   "name": "python3"
  },
  "language_info": {
   "codemirror_mode": {
    "name": "ipython",
    "version": 3
   },
   "file_extension": ".py",
   "mimetype": "text/x-python",
   "name": "python",
   "nbconvert_exporter": "python",
   "pygments_lexer": "ipython3",
   "version": "3.10.9"
  }
 },
 "nbformat": 4,
 "nbformat_minor": 5
}
